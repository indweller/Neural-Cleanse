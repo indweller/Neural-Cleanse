{
  "cells": [
    {
      "cell_type": "code",
      "execution_count": null,
      "metadata": {
        "colab": {
          "base_uri": "https://localhost:8080/"
        },
        "id": "paeOufDU0ud0",
        "outputId": "a5eb03dc-5480-4e4a-edc9-3e730376e81b"
      },
      "outputs": [
        {
          "output_type": "stream",
          "name": "stdout",
          "text": [
            "Drive already mounted at /content/drive; to attempt to forcibly remount, call drive.mount(\"/content/drive\", force_remount=True).\n"
          ]
        }
      ],
      "source": [
        "# Additional cell/\n",
        "from google.colab import drive\n",
        "drive.mount('/content/drive')"
      ]
    },
    {
      "cell_type": "code",
      "execution_count": null,
      "metadata": {
        "id": "KKW6Q38805fl"
      },
      "outputs": [],
      "source": [
        "%matplotlib inline\n",
        "import torch\n",
        "import torchvision\n",
        "import torchvision.transforms as transforms\n",
        "import os\n",
        "import json\n",
        "from tqdm.notebook import tqdm\n",
        "import numpy as np\n",
        "import matplotlib.pyplot as plt\n",
        "from torch import nn\n",
        "import torch.nn.functional as F\n",
        "import torch.backends.cudnn as cudnn\n",
        "cudnn.benchmark = True  # fire on all cylinders\n",
        "from sklearn.metrics import roc_auc_score, roc_curve\n",
        "import sys\n",
        "from tqdm import tqdm"
      ]
    },
    {
      "cell_type": "code",
      "execution_count": null,
      "metadata": {
        "colab": {
          "base_uri": "https://localhost:8080/"
        },
        "id": "JBREC1Do1ByW",
        "outputId": "9e155739-1f7d-4a33-864d-d1bf314b98fd"
      },
      "outputs": [
        {
          "output_type": "stream",
          "name": "stdout",
          "text": [
            "Looking in indexes: https://pypi.org/simple, https://us-python.pkg.dev/colab-wheels/public/simple/\n",
            "Requirement already satisfied: matplotlib==3.2.1 in /usr/local/lib/python3.7/dist-packages (3.2.1)\n",
            "Requirement already satisfied: numpy==1.19.1 in /usr/local/lib/python3.7/dist-packages (1.19.1)\n",
            "Requirement already satisfied: scikit-learn==0.23.1 in /usr/local/lib/python3.7/dist-packages (0.23.1)\n",
            "Requirement already satisfied: tqdm==4.62.3 in /usr/local/lib/python3.7/dist-packages (4.62.3)\n",
            "Requirement already satisfied: torch==1.11.0 in /usr/local/lib/python3.7/dist-packages (1.11.0)\n",
            "Requirement already satisfied: torchvision==0.12.0 in /usr/local/lib/python3.7/dist-packages (0.12.0)\n",
            "Requirement already satisfied: vit_pytorch==0.35.5 in /usr/local/lib/python3.7/dist-packages (0.35.5)\n",
            "Requirement already satisfied: cycler>=0.10 in /usr/local/lib/python3.7/dist-packages (from matplotlib==3.2.1) (0.11.0)\n",
            "Requirement already satisfied: pyparsing!=2.0.4,!=2.1.2,!=2.1.6,>=2.0.1 in /usr/local/lib/python3.7/dist-packages (from matplotlib==3.2.1) (3.0.9)\n",
            "Requirement already satisfied: python-dateutil>=2.1 in /usr/local/lib/python3.7/dist-packages (from matplotlib==3.2.1) (2.8.2)\n",
            "Requirement already satisfied: kiwisolver>=1.0.1 in /usr/local/lib/python3.7/dist-packages (from matplotlib==3.2.1) (1.4.4)\n",
            "Requirement already satisfied: scipy>=0.19.1 in /usr/local/lib/python3.7/dist-packages (from scikit-learn==0.23.1) (1.7.3)\n",
            "Requirement already satisfied: joblib>=0.11 in /usr/local/lib/python3.7/dist-packages (from scikit-learn==0.23.1) (1.2.0)\n",
            "Requirement already satisfied: threadpoolctl>=2.0.0 in /usr/local/lib/python3.7/dist-packages (from scikit-learn==0.23.1) (3.1.0)\n",
            "Requirement already satisfied: typing-extensions in /usr/local/lib/python3.7/dist-packages (from torch==1.11.0) (4.1.1)\n",
            "Requirement already satisfied: requests in /usr/local/lib/python3.7/dist-packages (from torchvision==0.12.0) (2.23.0)\n",
            "Requirement already satisfied: pillow!=8.3.*,>=5.3.0 in /usr/local/lib/python3.7/dist-packages (from torchvision==0.12.0) (7.1.2)\n",
            "Requirement already satisfied: einops>=0.4.1 in /usr/local/lib/python3.7/dist-packages (from vit_pytorch==0.35.5) (0.5.0)\n",
            "Requirement already satisfied: six>=1.5 in /usr/local/lib/python3.7/dist-packages (from python-dateutil>=2.1->matplotlib==3.2.1) (1.15.0)\n",
            "Requirement already satisfied: idna<3,>=2.5 in /usr/local/lib/python3.7/dist-packages (from requests->torchvision==0.12.0) (2.10)\n",
            "Requirement already satisfied: urllib3!=1.25.0,!=1.25.1,<1.26,>=1.21.1 in /usr/local/lib/python3.7/dist-packages (from requests->torchvision==0.12.0) (1.24.3)\n",
            "Requirement already satisfied: certifi>=2017.4.17 in /usr/local/lib/python3.7/dist-packages (from requests->torchvision==0.12.0) (2022.9.24)\n",
            "Requirement already satisfied: chardet<4,>=3.0.2 in /usr/local/lib/python3.7/dist-packages (from requests->torchvision==0.12.0) (3.0.4)\n"
          ]
        }
      ],
      "source": [
        "!pip install matplotlib==3.2.1 numpy==1.19.1 scikit-learn==0.23.1 tqdm==4.62.3 torch==1.11.0 torchvision==0.12.0 vit_pytorch==0.35.5"
      ]
    },
    {
      "cell_type": "code",
      "execution_count": null,
      "metadata": {
        "id": "-jTuBAX30-eA"
      },
      "outputs": [],
      "source": [
        "# Additional cell\n",
        "import importlib.util\n",
        "import sys\n",
        "\n",
        "spec2 = importlib.util.spec_from_file_location(\"wrn\", \"/content/drive/MyDrive/trojan_detection/tdc-starter-kit-main/wrn.py\")\n",
        "wrn = importlib.util.module_from_spec(spec2)\n",
        "sys.modules[\"wrn\"] = wrn\n",
        "spec2.loader.exec_module(wrn)\n",
        "\n",
        "spec = importlib.util.spec_from_file_location(\"utils\", \"/content/drive/MyDrive/trojan_detection/tdc-starter-kit-main/utils.py\")\n",
        "utils = importlib.util.module_from_spec(spec)\n",
        "sys.modules[\"utils\"] = utils\n",
        "spec.loader.exec_module(utils)"
      ]
    },
    {
      "cell_type": "code",
      "execution_count": null,
      "metadata": {
        "id": "NQY5aBIhzHN_",
        "colab": {
          "base_uri": "https://localhost:8080/"
        },
        "outputId": "be3389ec-adfd-4b1c-ed57-65419257f251"
      },
      "outputs": [
        {
          "output_type": "stream",
          "name": "stdout",
          "text": [
            "100 WideResNet CIFAR-10 patch\n",
            "125 WideResNet CIFAR-100 patch\n",
            "250 SimpleViT GTSRB patch\n",
            "375 MNIST_Network MNIST patch\n"
          ]
        }
      ],
      "source": [
        "import json\n",
        "\n",
        "models = set()\n",
        "datasets = set()\n",
        "for id in range(100, 500):\n",
        "  name = \"id-0\" + str(id)\n",
        "  path = '/content/drive/MyDrive/trojan_detection/tdc_datasets/trigger_synthesis/train/' + name + '/model.pt'\n",
        "  json_path = '/content/drive/MyDrive/trojan_detection/tdc_datasets/trigger_synthesis/train/' + name + '/info.json'\n",
        "  with open(json_path) as f:\n",
        "    info = json.load(f)\n",
        "  model = torch.load(path).cuda()\n",
        "  # target_layers = []\n",
        "  dataset = info['dataset']\n",
        "  model_type = model.__class__.__name__\n",
        "  if model_type not in models or dataset not in datasets:\n",
        "    print(id, model_type, dataset, info['trigger_type'])\n",
        "    models.add(model_type)\n",
        "    datasets.add(dataset)\n",
        "  # break"
      ]
    },
    {
      "cell_type": "code",
      "execution_count": null,
      "metadata": {
        "colab": {
          "base_uri": "https://localhost:8080/"
        },
        "id": "8JHA-v_v1R3J",
        "outputId": "416029d6-f91e-4cab-89a8-cf37e3058111"
      },
      "outputs": [
        {
          "output_type": "stream",
          "name": "stdout",
          "text": [
            "Files already downloaded and verified\n",
            "Files already downloaded and verified\n",
            "Files already downloaded and verified\n",
            "Files already downloaded and verified\n"
          ]
        }
      ],
      "source": [
        "# get training and testing datasets\n",
        "transform = transforms.ToTensor()\n",
        "training_data = {}\n",
        "testing_data = {}\n",
        "train_loader = {}\n",
        "test_loader = {}\n",
        "trigger_shape = {'MNIST': (1,28,28), 'CIFAR-10': (3,32,32), 'CIFAR-100': (3,32,32), 'GTSRB': (3,64,64)}\n",
        "mask_shape = {'MNIST': (28,28), 'CIFAR-10': (32,32), 'CIFAR-100': (32,32), 'GTSRB': (32,32)}\n",
        "classes = {'MNIST': 10, 'CIFAR-10': 10, 'CIFAR-100': 100, 'GTSRB': 43}\n",
        "\n",
        "training_data['MNIST'] = torchvision.datasets.MNIST(root='./data/mnist', train=True,\n",
        "                                        download=True, transform=transform)\n",
        "testing_data['MNIST'] = torchvision.datasets.MNIST(root='./data/mnist', train=False,\n",
        "                                       download=True, transform=transform)\n",
        "train_loader['MNIST'] = torch.utils.data.DataLoader(training_data['MNIST'], 64)\n",
        "test_loader['MNIST'] = torch.utils.data.DataLoader(testing_data['MNIST'], 64)\n",
        "\n",
        "training_data['CIFAR-10'] = torchvision.datasets.CIFAR10(root='./data/cifar10', train=True,\n",
        "                                        download=True, transform=transform)\n",
        "testing_data['CIFAR-10'] = torchvision.datasets.CIFAR10(root='./data/cifar10', train=False,\n",
        "                                       download=True, transform=transform)\n",
        "train_loader['CIFAR-10'] = torch.utils.data.DataLoader(training_data['CIFAR-10'], 64)\n",
        "test_loader['CIFAR-10'] = torch.utils.data.DataLoader(testing_data['CIFAR-10'], 64)\n",
        "\n",
        "training_data['CIFAR-100'] = torchvision.datasets.CIFAR100(root='./data/cifar100', train=True,\n",
        "                                        download=True, transform=transform)\n",
        "testing_data['CIFAR-100'] = torchvision.datasets.CIFAR100(root='./data/cifar100', train=False,\n",
        "                                       download=True, transform=transform)\n",
        "train_loader['CIFAR-100'] = torch.utils.data.DataLoader(training_data['CIFAR-100'], 64)\n",
        "test_loader['CIFAR-100'] = torch.utils.data.DataLoader(testing_data['CIFAR-100'], 64)\n",
        "\n",
        "# transform = [transforms.ToTensor(), transforms.Resize()]\n",
        "training_data['GTSRB'] = torchvision.datasets.GTSRB(root='./data/gtsrb', split=\"train\",\n",
        "                                        download=True, transform=transforms.Compose(\n",
        "                                           [transforms.Resize((64, 64)), transforms.ToTensor()]))\n",
        "testing_data['GTSRB'] = torchvision.datasets.GTSRB(root='./data/gtsrb', split=\"test\",\n",
        "                                       download=True, transform=transforms.Compose(\n",
        "                                           [transforms.Resize((32, 32)), transforms.ToTensor()]))\n",
        "train_loader['GTSRB'] = torch.utils.data.DataLoader(training_data['GTSRB'], 64)\n",
        "test_loader['GTSRB'] = torch.utils.data.DataLoader(testing_data['GTSRB'], 64)\n"
      ]
    },
    {
      "cell_type": "code",
      "source": [
        "plt.figure(figsize=(2,2))\n",
        "plt.imshow(training_data['GTSRB'][0][0].T)\n",
        "print(training_data['GTSRB'][0][0].shape)"
      ],
      "metadata": {
        "colab": {
          "base_uri": "https://localhost:8080/",
          "height": 232
        },
        "id": "Yk4nvHYvz_cS",
        "outputId": "6113496a-609b-4c1f-dad1-e4dc220a3e9c"
      },
      "execution_count": null,
      "outputs": [
        {
          "output_type": "stream",
          "name": "stdout",
          "text": [
            "torch.Size([3, 64, 64])\n"
          ]
        },
        {
          "output_type": "stream",
          "name": "stderr",
          "text": [
            "/usr/local/lib/python3.7/dist-packages/ipykernel_launcher.py:2: UserWarning: The use of `x.T` on tensors of dimension other than 2 to reverse their shape is deprecated and it will throw an error in a future release. Consider `x.mT` to transpose batches of matricesor `x.permute(*torch.arange(x.ndim - 1, -1, -1))` to reverse the dimensions of a tensor. (Triggered internally at  ../aten/src/ATen/native/TensorShape.cpp:2318.)\n",
            "  \n"
          ]
        },
        {
          "output_type": "display_data",
          "data": {
            "text/plain": [
              "<Figure size 144x144 with 1 Axes>"
            ],
            "image/png": "[encoded data removed]"
          },
          "metadata": {
            "needs_background": "light"
          }
        }
      ]
    },
    {
      "cell_type": "code",
      "execution_count": null,
      "metadata": {
        "id": "9f32SHFX2DDM"
      },
      "outputs": [],
      "source": [
        "def apply_trigger(x, trigger, mask):\n",
        "  xprime = (1 - mask) * x + mask * trigger\n",
        "  return xprime"
      ]
    },
    {
      "cell_type": "code",
      "execution_count": null,
      "metadata": {
        "id": "oZEQrXIT6JTd"
      },
      "outputs": [],
      "source": [
        "def objective(outputs, labels, mask, reg=0.01):\n",
        "  loss = nn.CrossEntropyLoss()\n",
        "  total = loss(outputs, labels) + reg * torch.norm(mask, 1)\n",
        "  return total"
      ]
    },
    {
      "cell_type": "code",
      "execution_count": null,
      "metadata": {
        "colab": {
          "base_uri": "https://localhost:8080/"
        },
        "id": "As-hmiEu7AR2",
        "outputId": "90b940a7-f01e-430d-bc76-7f3fc5e51771"
      },
      "outputs": [
        {
          "output_type": "stream",
          "name": "stdout",
          "text": [
            "Obj func 4409.07763671875, Cross Entropy 503.0959777832031, L1 norm of mask 389.9454345703125\n",
            "Obj func 1920.79931640625, Cross Entropy 388.34710693359375, L1 norm of mask 152.92691040039062\n",
            "Obj func 955.1114501953125, Cross Entropy 265.9009094238281, L1 norm of mask 68.8648681640625\n",
            "Obj func 914.4239501953125, Cross Entropy 297.7686462402344, L1 norm of mask 61.668914794921875\n"
          ]
        }
      ],
      "source": [
        "import torch.optim as optim\n",
        "\n",
        "name = \"id-0375\"\n",
        "path = '/content/drive/MyDrive/trojan_detection/tdc_datasets/trigger_synthesis/train/' + name + '/model.pt'\n",
        "json_path = '/content/drive/MyDrive/trojan_detection/tdc_datasets/trigger_synthesis/train/' + name + '/info.json'\n",
        "with open(json_path) as f:\n",
        "  info = json.load(f)\n",
        "dataset = info['dataset']\n",
        "model = torch.load(path).cuda()\n",
        "trigger = torch.rand(trigger_shape[dataset], requires_grad = True, device=\"cuda\")\n",
        "mask = torch.rand(mask_shape[dataset], requires_grad = True, device=\"cuda\")\n",
        "optimizer = optim.Adam([mask, trigger], lr=0.001)\n",
        "device = torch.device(\"cuda:0\" if torch.cuda.is_available() else \"cpu\")\n",
        "target_label = 8\n",
        "\n",
        "for epoch in range(2):\n",
        "  for i, data in enumerate(train_loader[dataset], 0):\n",
        "    inputs, labels = data\n",
        "    indices = labels != target_label\n",
        "    inputs = inputs[indices]\n",
        "    labels = labels[indices]\n",
        "    labels[:] = target_label\n",
        "    inputs, labels = inputs.to(device), labels.to(device)\n",
        "    inputs *= 255\n",
        "    # print(inputs.shape, labels.shape)\n",
        "    optimizer.zero_grad()\n",
        "    new_images = apply_trigger(inputs, trigger, mask)\n",
        "    outputs = model(new_images)\n",
        "    loss = objective(outputs, labels, mask, 10)\n",
        "    loss.backward()\n",
        "    optimizer.step()\n",
        "    if i % 500 == 0:\n",
        "      print(f\"Obj func {loss.item()}, Cross Entropy {nn.CrossEntropyLoss()(outputs, labels).item()}, L1 norm of mask {torch.norm(mask, 1).item()}\")"
      ]
    },
    {
      "cell_type": "code",
      "execution_count": null,
      "metadata": {
        "colab": {
          "base_uri": "https://localhost:8080/",
          "height": 282
        },
        "id": "ZrIf9rIPAnYE",
        "outputId": "a0052cf9-e125-4f08-f652-97150390e664"
      },
      "outputs": [
        {
          "output_type": "execute_result",
          "data": {
            "text/plain": [
              "<matplotlib.image.AxesImage at 0x7f47ccfca750>"
            ]
          },
          "metadata": {},
          "execution_count": 10
        },
        {
          "output_type": "display_data",
          "data": {
            "text/plain": [
              "<Figure size 432x288 with 1 Axes>"
            ],
            "image/png": "[encoded data removed]"
          },
          "metadata": {
            "needs_background": "light"
          }
        }
      ],
      "source": [
        "# plt.figure(figsize=(8,8))\n",
        "plt.imshow((mask*trigger).cpu().detach().numpy().squeeze())"
      ]
    },
    {
      "cell_type": "code",
      "execution_count": null,
      "metadata": {
        "colab": {
          "base_uri": "https://localhost:8080/",
          "height": 282
        },
        "id": "4KZ1kHzYBtXZ",
        "outputId": "549ec983-49c6-48a9-f23b-36d352dcf9b5"
      },
      "outputs": [
        {
          "output_type": "stream",
          "name": "stdout",
          "text": [
            "5\n"
          ]
        },
        {
          "output_type": "display_data",
          "data": {
            "text/plain": [
              "<Figure size 432x288 with 1 Axes>"
            ],
            "image/png": "[encoded data removed]"
          },
          "metadata": {
            "needs_background": "light"
          }
        }
      ],
      "source": [
        "images5 = []\n",
        "for images, labels in train_loader[dataset]:\n",
        "  indices = labels == 5\n",
        "  newims = images[indices]\n",
        "  # print(newims.shape, labels[indices].shape)\n",
        "  for i in newims:\n",
        "    # plt.imshow(i.squeeze())\n",
        "    i = i.cuda()\n",
        "    iprime = apply_trigger(i, trigger, mask)\n",
        "    iprimeimage = iprime.clone()\n",
        "    plt.imshow(iprimeimage.cpu().detach().numpy().squeeze())\n",
        "    print(torch.argmax(model(iprime.unsqueeze(0)), 1).item())\n",
        "    if torch.argmax(model(iprime.unsqueeze(0)), 1).item() != 5:\n",
        "      print(\"trojaned\")\n",
        "    break\n",
        "    #print(\"hello\")\n",
        "  break"
      ]
    },
    {
      "cell_type": "code",
      "execution_count": null,
      "metadata": {
        "id": "3FJTdzLEG7JG",
        "colab": {
          "base_uri": "https://localhost:8080/"
        },
        "outputId": "069c195c-f00e-4576-d068-ac141fa2b6a2"
      },
      "outputs": [
        {
          "output_type": "stream",
          "name": "stdout",
          "text": [
            "Target Label  0\n",
            "Obj func 410.40472412109375, Cross Entropy 13.805096626281738, L1 norm of mask 388.8497009277344\n",
            "Obj func 16.900264739990234, Cross Entropy 15.676548957824707, L1 norm of mask 1.222107172012329\n",
            "Obj func 7.610479354858398, Cross Entropy 2.5752546787261963, L1 norm of mask 5.044766426086426\n",
            "Obj func 5.181863784790039, Cross Entropy 0.3963761627674103, L1 norm of mask 4.78483772277832\n",
            "Trojaned!, true label 1, target label 0\n",
            "Trojaned!, true label 3, target label 0\n",
            "Trojaned!, true label 5, target label 0\n",
            "Trojaned!, true label 7, target label 0\n",
            "Trojaned!, true label 8, target label 0\n",
            "Trojaned!, true label 9, target label 0\n",
            "Target Label  1\n",
            "Obj func 396.7765808105469, Cross Entropy 15.121222496032715, L1 norm of mask 373.914306640625\n",
            "Obj func 16.579362869262695, Cross Entropy 14.786030769348145, L1 norm of mask 1.8452588319778442\n",
            "Obj func 3.7019567489624023, Cross Entropy 0.20317186415195465, L1 norm of mask 3.5106024742126465\n",
            "Obj func 3.0164260864257812, Cross Entropy 0.0810069590806961, L1 norm of mask 2.9479379653930664\n",
            "Trojaned!, true label 0, target label 1\n",
            "Trojaned!, true label 2, target label 1\n",
            "Trojaned!, true label 3, target label 1\n",
            "Trojaned!, true label 4, target label 1\n",
            "Trojaned!, true label 5, target label 1\n",
            "Trojaned!, true label 6, target label 1\n",
            "Trojaned!, true label 7, target label 1\n",
            "Trojaned!, true label 8, target label 1\n",
            "Trojaned!, true label 9, target label 1\n",
            "Target Label  2\n",
            "Obj func 406.49517822265625, Cross Entropy 12.77219009399414, L1 norm of mask 385.9138488769531\n",
            "Obj func 5.475180149078369, Cross Entropy 0.48702937364578247, L1 norm of mask 5.012471675872803\n",
            "Obj func 4.093099117279053, Cross Entropy 0.438009649515152, L1 norm of mask 3.6193673610687256\n",
            "Obj func 3.2898623943328857, Cross Entropy 0.23941735923290253, L1 norm of mask 3.02406644821167\n",
            "Trojaned!, true label 0, target label 2\n",
            "Trojaned!, true label 1, target label 2\n",
            "Trojaned!, true label 3, target label 2\n",
            "Trojaned!, true label 4, target label 2\n",
            "Trojaned!, true label 5, target label 2\n",
            "Trojaned!, true label 6, target label 2\n",
            "Trojaned!, true label 7, target label 2\n",
            "Trojaned!, true label 8, target label 2\n",
            "Trojaned!, true label 9, target label 2\n",
            "Target Label  3\n",
            "Obj func 389.84197998046875, Cross Entropy 11.943530082702637, L1 norm of mask 370.1552734375\n",
            "Obj func 13.113868713378906, Cross Entropy 11.829059600830078, L1 norm of mask 1.2340532541275024\n",
            "Obj func 3.785979986190796, Cross Entropy 0.6969130635261536, L1 norm of mask 3.0704474449157715\n",
            "Obj func 2.9329776763916016, Cross Entropy 0.48925745487213135, L1 norm of mask 2.459240198135376\n",
            "Trojaned!, true label 5, target label 3\n",
            "Target Label  4\n",
            "Obj func 406.7562561035156, Cross Entropy 12.701261520385742, L1 norm of mask 386.3135070800781\n",
            "Obj func 4.807338714599609, Cross Entropy 1.4661104679107666, L1 norm of mask 3.389707088470459\n",
            "Obj func 3.7542598247528076, Cross Entropy 0.7417073249816895, L1 norm of mask 2.965564489364624\n",
            "Obj func 3.205324172973633, Cross Entropy 0.43203258514404297, L1 norm of mask 2.7769227027893066\n",
            "Trojaned!, true label 0, target label 4\n",
            "Trojaned!, true label 1, target label 4\n",
            "Trojaned!, true label 3, target label 4\n",
            "Trojaned!, true label 7, target label 4\n",
            "Trojaned!, true label 9, target label 4\n",
            "Target Label  5\n",
            "Obj func 401.1067199707031, Cross Entropy 13.224818229675293, L1 norm of mask 380.1133728027344\n",
            "Obj func 14.953385353088379, Cross Entropy 13.58415699005127, L1 norm of mask 1.4237970113754272\n",
            "Obj func 7.3576884269714355, Cross Entropy 4.508246898651123, L1 norm of mask 2.8416688442230225\n",
            "Obj func 5.996326446533203, Cross Entropy 3.406867504119873, L1 norm of mask 2.5690274238586426\n",
            "Target Label  6\n",
            "Obj func 404.8738098144531, Cross Entropy 6.15255880355835, L1 norm of mask 390.9351501464844\n",
            "Obj func 8.267491340637207, Cross Entropy 7.189495086669922, L1 norm of mask 1.0896944999694824\n",
            "Obj func 3.085683584213257, Cross Entropy 0.23484693467617035, L1 norm of mask 2.8709239959716797\n",
            "Obj func 1.795237421989441, Cross Entropy 0.05195804312825203, L1 norm of mask 1.7411291599273682\n",
            "Target Label  7\n",
            "Obj func 396.6461181640625, Cross Entropy 15.060301780700684, L1 norm of mask 373.77325439453125\n",
            "Obj func 17.413917541503906, Cross Entropy 16.45818328857422, L1 norm of mask 0.9576611518859863\n",
            "Obj func 10.209508895874023, Cross Entropy 7.560041904449463, L1 norm of mask 2.65440034866333\n",
            "Obj func 5.001347541809082, Cross Entropy 1.0247271060943604, L1 norm of mask 3.973412036895752\n",
            "Trojaned!, true label 0, target label 7\n",
            "Trojaned!, true label 5, target label 7\n",
            "Trojaned!, true label 6, target label 7\n",
            "Trojaned!, true label 8, target label 7\n",
            "Trojaned!, true label 9, target label 7\n",
            "Target Label  8\n",
            "Obj func 392.6610412597656, Cross Entropy 0.0016916675958782434, L1 norm of mask 384.9291687011719\n",
            "Obj func 0.8856104016304016, Cross Entropy 0.017426054924726486, L1 norm of mask 0.8758688569068909\n",
            "Obj func 0.8358083367347717, Cross Entropy 0.010004821233451366, L1 norm of mask 0.8225807547569275\n",
            "Obj func 0.8471763134002686, Cross Entropy 0.0047684721648693085, L1 norm of mask 0.8754705786705017\n",
            "Target Label  9\n",
            "Obj func 403.36590576171875, Cross Entropy 9.422406196594238, L1 norm of mask 386.15325927734375\n",
            "Obj func 6.516185760498047, Cross Entropy 4.290237903594971, L1 norm of mask 2.2552754878997803\n",
            "Obj func 4.276492118835449, Cross Entropy 1.7765638828277588, L1 norm of mask 2.5073230266571045\n",
            "Obj func 3.56480073928833, Cross Entropy 0.937365710735321, L1 norm of mask 2.6081066131591797\n"
          ]
        }
      ],
      "source": [
        "# import torch.optim as optim\n",
        "\n",
        "path = '/content/drive/MyDrive/trojan_detection/tdc_datasets/trigger_synthesis/train/id-0375/model.pt'\n",
        "model = torch.load(path).cuda()\n",
        "list_triggers = []\n",
        "list_masks = []\n",
        "for target_label in range(10):\n",
        "  trigger = torch.rand(trigger_shape['MNIST'], requires_grad = True, device=\"cuda\")\n",
        "  mask = torch.rand(mask_shape['MNIST'], requires_grad = True, device=\"cuda\")\n",
        "  optimizer = optim.Adam([mask, trigger], lr=0.01)\n",
        "  device = torch.device(\"cuda:0\" if torch.cuda.is_available() else \"cpu\")\n",
        "  print(\"Target Label \", target_label)\n",
        "\n",
        "  for epoch in range(2):\n",
        "    for i, data in enumerate(train_loader['MNIST'], 0):\n",
        "      inputs, labels = data\n",
        "      indices = labels != target_label\n",
        "      inputs = inputs[indices]\n",
        "      labels = labels[indices]\n",
        "      labels[:] = target_label\n",
        "      inputs, labels = inputs.to(device), labels.to(device)\n",
        "      inputs = torch.rand((inputs.shape)).to(device)\n",
        "      # print(inputs.shape, labels.shape)\n",
        "      optimizer.zero_grad()\n",
        "      new_images = apply_trigger(inputs, trigger, F.relu(mask))\n",
        "      outputs = model(new_images)\n",
        "      loss = objective(outputs, labels, mask,1)\n",
        "      loss.backward()\n",
        "      optimizer.step()\n",
        "      if i % 500 == 0:\n",
        "        print(f\"Obj func {loss.item()}, Cross Entropy {nn.CrossEntropyLoss()(outputs, labels).item()}, L1 norm of mask {torch.norm(mask, 1)}\")\n",
        "      # print(images.shape, labels.shape)\n",
        "\n",
        "  list_triggers.append(trigger)\n",
        "  list_masks.append(mask)\n",
        "\n",
        "  for images, labels in train_loader['MNIST']:\n",
        "    for l in range(10):\n",
        "      if l == target_label:\n",
        "        continue\n",
        "      indices = labels == l\n",
        "      newims = images[indices]\n",
        "    # print(newims.shape, labels[indices].shape)\n",
        "      for i in newims:\n",
        "      # plt.imshow(i.squeeze())\n",
        "        i = i.cuda()\n",
        "        iprime = apply_trigger(i, trigger, F.relu(mask))\n",
        "        iprimeimage = iprime.clone()\n",
        "      # plt.imshow(iprimeimage.cpu().detach().numpy().squeeze())\n",
        "        if torch.argmax(model(iprime.unsqueeze(0)), 1).item() == target_label:\n",
        "          print(f\"Trojaned!, true label {l}, target label {target_label}\")\n",
        "        break\n",
        "    break"
      ]
    },
    {
      "cell_type": "code",
      "execution_count": null,
      "metadata": {
        "colab": {
          "base_uri": "https://localhost:8080/",
          "height": 772
        },
        "id": "7GlrBBIZz_7h",
        "outputId": "4f096a86-af3c-41d7-f12f-b333e23497c6"
      },
      "outputs": [
        {
          "output_type": "stream",
          "name": "stdout",
          "text": [
            "-17.01810646057129 21.88494873046875\n",
            "-13.646651268005371 7.321025371551514\n",
            "-11.824531555175781 14.635400772094727\n",
            "-17.386348724365234 10.550232887268066\n",
            "-9.253594398498535 21.028072357177734\n",
            "-19.90450668334961 23.89109230041504\n",
            "-15.936820030212402 13.307827949523926\n",
            "-17.065052032470703 16.02253532409668\n",
            "-8.65728759765625 10.327078819274902\n",
            "-17.525287628173828 17.99349021911621\n"
          ]
        },
        {
          "output_type": "display_data",
          "data": {
            "text/plain": [
              "<Figure size 1300x650 with 10 Axes>"
            ],
            "image/png": "[encoded data removed]"
          },
          "metadata": {
            "needs_background": "light"
          }
        }
      ],
      "source": [
        "f = plt.figure(figsize=(20,10), dpi=65)\n",
        "f.set_label(\"Triggers\")\n",
        "for i in range(len(list_masks)):\n",
        "  ax = f.add_subplot(2, 5, i+1)\n",
        "  print(torch.min(list_triggers[i]).item(), torch.max(list_triggers[i]).item())\n",
        "  im = ax.imshow((F.relu(list_masks[i])*F.relu(list_triggers[i])).cpu().detach().numpy().squeeze(), cmap='Greys')\n",
        "  ax.set_title(f\"Target {i}, L1 norm of mask {torch.norm(list_masks[i], 1):.2f}\")\n",
        "  # break\n",
        "f.tight_layout(h_pad=1)\n",
        "# plt.colorbar(im)"
      ]
    },
    {
      "cell_type": "code",
      "execution_count": null,
      "metadata": {
        "colab": {
          "base_uri": "https://localhost:8080/",
          "height": 609
        },
        "id": "eGaNcnC9B9Rp",
        "outputId": "f8bb0d96-7af1-46c5-cc91-d8da9f7331fc"
      },
      "outputs": [
        {
          "output_type": "stream",
          "name": "stdout",
          "text": [
            "0.0 1.0\n"
          ]
        },
        {
          "output_type": "display_data",
          "data": {
            "text/plain": [
              "<Figure size 1300x650 with 10 Axes>"
            ],
            "image/png": "[encoded data removed]"
          },
          "metadata": {
            "needs_background": "light"
          }
        }
      ],
      "source": [
        "# for data in train_loader:\n",
        "image = training_data['MNIST'][0][0]\n",
        "f = plt.figure(figsize=(20,10), dpi=65)\n",
        "f.set_label(\"Triggers applied to image\")\n",
        "for i in range(len(list_masks)):\n",
        "  ax = f.add_subplot(2, 5, i+1)\n",
        "  # print(torch.min(list_masks[i]*list_triggers[i]).item(), torch.max(list_masks[i]*list_triggers[i]).item())\n",
        "  output = apply_trigger(image.to(device), list_triggers[i], F.relu(list_masks[i]))\n",
        "  if i == 5:\n",
        "    output = apply_trigger(training_data['MNIST'][1][0].to(device), list_triggers[i], F.relu(list_masks[i]))\n",
        "    im = ax.imshow(output.cpu().detach().squeeze(), cmap='Blues')\n",
        "    ax.set_title(f\"Target {i}, True label {0}, Prediction {torch.argmax(model(output.unsqueeze(0)), 1).item()}\")\n",
        "    continue\n",
        "  im = ax.imshow(output.cpu().detach().squeeze(), cmap='Blues')\n",
        "  ax.set_title(f\"Target {i}, True label {5}, Prediction {torch.argmax(model(output.unsqueeze(0)), 1).item()}\")\n",
        "f.tight_layout(h_pad=1)\n",
        "print(torch.min(training_data['MNIST'][1][0]).item(), torch.max(training_data['MNIST'][1][0]).item())"
      ]
    },
    {
      "cell_type": "code",
      "execution_count": null,
      "metadata": {
        "colab": {
          "base_uri": "https://localhost:8080/",
          "height": 304
        },
        "id": "SBQUvHVwCHUu",
        "outputId": "2ed169b4-f8a4-4b67-d9dd-9a4ff48ef7e8"
      },
      "outputs": [
        {
          "output_type": "execute_result",
          "data": {
            "text/plain": [
              "Text(0.5, 1.0, 'Raw image of 5')"
            ]
          },
          "metadata": {},
          "execution_count": 16
        },
        {
          "output_type": "display_data",
          "data": {
            "text/plain": [
              "<Figure size 650x325 with 2 Axes>"
            ],
            "image/png": "[encoded data removed]"
          },
          "metadata": {
            "needs_background": "light"
          }
        }
      ],
      "source": [
        "f = plt.figure(figsize=(10,5), dpi=65)\n",
        "ax = plt.subplot(1,2, 1)\n",
        "ax.imshow(training_data['MNIST'][1][0].squeeze(), cmap = 'Blues')\n",
        "ax.set_title('Raw image of 0')\n",
        "ax = plt.subplot(1,2, 2)\n",
        "ax.imshow(training_data['MNIST'][0][0].squeeze(), cmap='Blues')\n",
        "ax.set_title('Raw image of 5')"
      ]
    },
    {
      "cell_type": "code",
      "execution_count": null,
      "metadata": {
        "id": "xnKlzZYBqENj"
      },
      "outputs": [],
      "source": [
        "path = '/content/drive/MyDrive/trojan_detection/tdc_datasets/trigger_synthesis/train/id-0375/model.pt'\n",
        "attack_path = '/content/drive/MyDrive/trojan_detection/tdc_datasets/trigger_synthesis/train/id-0375/attack_specification.pt'\n",
        "model = torch.load(path).cuda()\n",
        "attack = torch.load(path).cuda()\n"
      ]
    },
    {
      "cell_type": "code",
      "source": [],
      "metadata": {
        "id": "d5sILLVVrJDO"
      },
      "execution_count": null,
      "outputs": []
    },
    {
      "cell_type": "code",
      "source": [],
      "metadata": {
        "id": "H-llTRWerKMs"
      },
      "execution_count": null,
      "outputs": []
    }
  ],
  "metadata": {
    "accelerator": "GPU",
    "colab": {
      "provenance": []
    },
    "gpuClass": "standard",
    "kernelspec": {
      "display_name": "Python 3",
      "name": "python3"
    },
    "language_info": {
      "name": "python"
    }
  },
  "nbformat": 4,
  "nbformat_minor": 0
}